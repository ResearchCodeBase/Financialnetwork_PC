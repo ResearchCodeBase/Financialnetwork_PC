{
 "cells": [
  {
   "cell_type": "markdown",
   "source": [],
   "metadata": {
    "collapsed": false
   },
   "id": "906eac7ac13aeeb1"
  },
  {
   "cell_type": "code",
   "execution_count": 24,
   "outputs": [],
   "source": [
    "from torch_geometric.datasets import Planetoid\n",
    "dataset = Planetoid(root='dataset/Cora', name='Cora')#包括数据集的下载，若root路径存在数据集则直接加载数据集\n",
    "data = dataset[0] #该数据集只有一个图len(dataset)：1\n",
    "# Data(edge_index=[2, 10556], test_mask=[2708],\n",
    "#         train_mask=[2708], val_mask=[2708], x=[2708, 1433], y=[2708])"
   ],
   "metadata": {
    "collapsed": false,
    "ExecuteTime": {
     "end_time": "2023-10-16T13:31:23.422438Z",
     "start_time": "2023-10-16T13:31:23.376640100Z"
    }
   },
   "id": "bf0a75bfd1bcc8bd"
  },
  {
   "cell_type": "code",
   "execution_count": 25,
   "outputs": [
    {
     "name": "stdout",
     "output_type": "stream",
     "text": [
      "MLP(\n",
      "  (lin1): Linear(in_features=1433, out_features=16, bias=True)\n",
      "  (lin2): Linear(in_features=16, out_features=7, bias=True)\n",
      ")\n"
     ]
    }
   ],
   "source": [
    "import torch\n",
    "from torch.nn import Linear\n",
    "import torch.nn.functional as F\n",
    "#设计Net\n",
    "class MLP(torch.nn.Module):\n",
    "    def __init__(self, hidden_channels):\n",
    "        super(MLP, self).__init__()\n",
    "        torch.manual_seed(12345) #设定随机种子，可省略\n",
    "        self.lin1 = Linear(dataset.num_features, hidden_channels)\n",
    "        self.lin2 = Linear(hidden_channels, dataset.num_classes)\n",
    "\n",
    "    def forward(self, x):\n",
    "        x = self.lin1(x)\n",
    "        x = x.relu()\n",
    "        x = F.dropout(x, p=0.5, training=self.training)\n",
    "        x = self.lin2(x)\n",
    "        return x\n",
    "\n",
    "model = MLP(hidden_channels=16)\n",
    "print(model)\n",
    "#MLP(\n",
    "#  (lin1): Linear(in_features=1433, out_features=16, bias=True)\n",
    "#  (lin2): Linear(in_features=16, out_features=7, bias=True)\n",
    "#)"
   ],
   "metadata": {
    "collapsed": false,
    "ExecuteTime": {
     "end_time": "2023-10-16T13:31:31.017487Z",
     "start_time": "2023-10-16T13:31:30.971685800Z"
    }
   },
   "id": "788e42424c5ccf37"
  },
  {
   "cell_type": "code",
   "execution_count": 26,
   "outputs": [
    {
     "name": "stdout",
     "output_type": "stream",
     "text": [
      "GCN(\n",
      "  (conv1): GCNConv(1433, 16)\n",
      "  (conv2): GCNConv(16, 7)\n",
      ")\n"
     ]
    }
   ],
   "source": [
    "import torch\n",
    "from torch_geometric.datasets import Planetoid\n",
    "import torch.nn.functional as F\n",
    "from torch_geometric.nn import GCNConv\n",
    "\n",
    "#设计Net\n",
    "class GCN(torch.nn.Module):\n",
    "    #初始化\n",
    "    def __init__(self, hidden_channels):\n",
    "        super(GCN, self).__init__()\n",
    "        torch.manual_seed(12345)\n",
    "        self.conv1 = GCNConv(dataset.num_features, hidden_channels)\n",
    "        self.conv2 = GCNConv(hidden_channels, dataset.num_classes)\n",
    "\t#前向传播\n",
    "    def forward(self, x, edge_index):\n",
    "        x = self.conv1(x, edge_index)\n",
    "        x = x.relu()\n",
    "        x = F.dropout(x, p=0.5, training=self.training)\n",
    "        x = self.conv2(x, edge_index)\n",
    "        #注意这里输出的是节点的特征，维度为[节点数,类别数]\n",
    "        return x\n",
    "#实例化模型\n",
    "model = GCN(hidden_channels=16)\n",
    "print(model)\n",
    "#GCN(\n",
    "#  (conv1): GCNConv(1433, 16)\n",
    "#  (conv2): GCNConv(16, 7)\n",
    "#)"
   ],
   "metadata": {
    "collapsed": false,
    "ExecuteTime": {
     "end_time": "2023-10-16T13:31:42.347152900Z",
     "start_time": "2023-10-16T13:31:42.294383100Z"
    }
   },
   "id": "70919e36c19fda7d"
  },
  {
   "cell_type": "code",
   "execution_count": 27,
   "outputs": [],
   "source": [
    "criterion = torch.nn.CrossEntropyLoss()"
   ],
   "metadata": {
    "collapsed": false,
    "ExecuteTime": {
     "end_time": "2023-10-16T13:31:50.648146200Z",
     "start_time": "2023-10-16T13:31:50.625248700Z"
    }
   },
   "id": "4abb9a2a7ddcc8fa"
  },
  {
   "cell_type": "code",
   "execution_count": 28,
   "outputs": [],
   "source": [
    "#选择优化器\n",
    "optimizer = torch.optim.Adam(model.parameters(), lr=0.01, weight_decay=5e-4)"
   ],
   "metadata": {
    "collapsed": false,
    "ExecuteTime": {
     "end_time": "2023-10-16T13:32:05.143378600Z",
     "start_time": "2023-10-16T13:32:05.118482700Z"
    }
   },
   "id": "eb7ede286c0d0681"
  },
  {
   "cell_type": "code",
   "execution_count": 29,
   "outputs": [
    {
     "name": "stdout",
     "output_type": "stream",
     "text": [
      "Epoch: 001, Loss: 1.9474\n",
      "Epoch: 002, Loss: 1.8486\n",
      "Epoch: 003, Loss: 1.7382\n",
      "Epoch: 004, Loss: 1.6300\n",
      "Epoch: 005, Loss: 1.4891\n",
      "Epoch: 006, Loss: 1.3653\n",
      "Epoch: 007, Loss: 1.2619\n",
      "Epoch: 008, Loss: 1.1165\n",
      "Epoch: 009, Loss: 1.0073\n",
      "Epoch: 010, Loss: 0.9298\n",
      "Epoch: 011, Loss: 0.8412\n",
      "Epoch: 012, Loss: 0.7436\n",
      "Epoch: 013, Loss: 0.6744\n",
      "Epoch: 014, Loss: 0.5305\n",
      "Epoch: 015, Loss: 0.5117\n",
      "Epoch: 016, Loss: 0.4814\n",
      "Epoch: 017, Loss: 0.3988\n",
      "Epoch: 018, Loss: 0.3728\n",
      "Epoch: 019, Loss: 0.3528\n",
      "Epoch: 020, Loss: 0.3245\n",
      "Epoch: 021, Loss: 0.2602\n",
      "Epoch: 022, Loss: 0.2214\n",
      "Epoch: 023, Loss: 0.2242\n",
      "Epoch: 024, Loss: 0.2133\n",
      "Epoch: 025, Loss: 0.1590\n",
      "Epoch: 026, Loss: 0.1755\n",
      "Epoch: 027, Loss: 0.1547\n",
      "Epoch: 028, Loss: 0.1346\n",
      "Epoch: 029, Loss: 0.1473\n",
      "Epoch: 030, Loss: 0.1218\n",
      "Epoch: 031, Loss: 0.1195\n",
      "Epoch: 032, Loss: 0.1266\n",
      "Epoch: 033, Loss: 0.1104\n",
      "Epoch: 034, Loss: 0.1113\n",
      "Epoch: 035, Loss: 0.1001\n",
      "Epoch: 036, Loss: 0.0929\n",
      "Epoch: 037, Loss: 0.0669\n",
      "Epoch: 038, Loss: 0.0808\n",
      "Epoch: 039, Loss: 0.0702\n",
      "Epoch: 040, Loss: 0.0994\n",
      "Epoch: 041, Loss: 0.0491\n",
      "Epoch: 042, Loss: 0.0640\n",
      "Epoch: 043, Loss: 0.0485\n",
      "Epoch: 044, Loss: 0.0898\n",
      "Epoch: 045, Loss: 0.0518\n",
      "Epoch: 046, Loss: 0.0399\n",
      "Epoch: 047, Loss: 0.0425\n",
      "Epoch: 048, Loss: 0.0378\n",
      "Epoch: 049, Loss: 0.0529\n",
      "Epoch: 050, Loss: 0.0442\n",
      "Epoch: 051, Loss: 0.0558\n",
      "Epoch: 052, Loss: 0.0602\n",
      "Epoch: 053, Loss: 0.0493\n",
      "Epoch: 054, Loss: 0.0542\n",
      "Epoch: 055, Loss: 0.0420\n",
      "Epoch: 056, Loss: 0.0441\n",
      "Epoch: 057, Loss: 0.0450\n",
      "Epoch: 058, Loss: 0.0472\n",
      "Epoch: 059, Loss: 0.0581\n",
      "Epoch: 060, Loss: 0.0514\n",
      "Epoch: 061, Loss: 0.0504\n",
      "Epoch: 062, Loss: 0.0559\n",
      "Epoch: 063, Loss: 0.0407\n",
      "Epoch: 064, Loss: 0.0463\n",
      "Epoch: 065, Loss: 0.0451\n",
      "Epoch: 066, Loss: 0.0426\n",
      "Epoch: 067, Loss: 0.0350\n",
      "Epoch: 068, Loss: 0.0510\n",
      "Epoch: 069, Loss: 0.0352\n",
      "Epoch: 070, Loss: 0.0407\n",
      "Epoch: 071, Loss: 0.0354\n",
      "Epoch: 072, Loss: 0.0336\n",
      "Epoch: 073, Loss: 0.0342\n",
      "Epoch: 074, Loss: 0.0387\n",
      "Epoch: 075, Loss: 0.0435\n",
      "Epoch: 076, Loss: 0.0321\n",
      "Epoch: 077, Loss: 0.0623\n",
      "Epoch: 078, Loss: 0.0433\n",
      "Epoch: 079, Loss: 0.0338\n",
      "Epoch: 080, Loss: 0.0313\n",
      "Epoch: 081, Loss: 0.0474\n",
      "Epoch: 082, Loss: 0.0581\n",
      "Epoch: 083, Loss: 0.0231\n",
      "Epoch: 084, Loss: 0.0472\n",
      "Epoch: 085, Loss: 0.0510\n",
      "Epoch: 086, Loss: 0.0610\n",
      "Epoch: 087, Loss: 0.0474\n",
      "Epoch: 088, Loss: 0.0326\n",
      "Epoch: 089, Loss: 0.0521\n",
      "Epoch: 090, Loss: 0.0522\n",
      "Epoch: 091, Loss: 0.0571\n",
      "Epoch: 092, Loss: 0.0453\n",
      "Epoch: 093, Loss: 0.0337\n",
      "Epoch: 094, Loss: 0.0428\n",
      "Epoch: 095, Loss: 0.0433\n",
      "Epoch: 096, Loss: 0.0477\n",
      "Epoch: 097, Loss: 0.0465\n",
      "Epoch: 098, Loss: 0.0383\n",
      "Epoch: 099, Loss: 0.0364\n",
      "Epoch: 100, Loss: 0.0339\n",
      "Epoch: 101, Loss: 0.0368\n",
      "Epoch: 102, Loss: 0.0456\n",
      "Epoch: 103, Loss: 0.0379\n",
      "Epoch: 104, Loss: 0.0531\n",
      "Epoch: 105, Loss: 0.0387\n",
      "Epoch: 106, Loss: 0.0290\n",
      "Epoch: 107, Loss: 0.0424\n",
      "Epoch: 108, Loss: 0.0456\n",
      "Epoch: 109, Loss: 0.0618\n",
      "Epoch: 110, Loss: 0.0437\n",
      "Epoch: 111, Loss: 0.0278\n",
      "Epoch: 112, Loss: 0.0356\n",
      "Epoch: 113, Loss: 0.0431\n",
      "Epoch: 114, Loss: 0.0330\n",
      "Epoch: 115, Loss: 0.0395\n",
      "Epoch: 116, Loss: 0.0341\n",
      "Epoch: 117, Loss: 0.0327\n",
      "Epoch: 118, Loss: 0.0420\n",
      "Epoch: 119, Loss: 0.0321\n",
      "Epoch: 120, Loss: 0.0304\n",
      "Epoch: 121, Loss: 0.0274\n",
      "Epoch: 122, Loss: 0.0364\n",
      "Epoch: 123, Loss: 0.0295\n",
      "Epoch: 124, Loss: 0.0384\n",
      "Epoch: 125, Loss: 0.0289\n",
      "Epoch: 126, Loss: 0.0428\n",
      "Epoch: 127, Loss: 0.0281\n",
      "Epoch: 128, Loss: 0.0376\n",
      "Epoch: 129, Loss: 0.0387\n",
      "Epoch: 130, Loss: 0.0299\n",
      "Epoch: 131, Loss: 0.0328\n",
      "Epoch: 132, Loss: 0.0369\n",
      "Epoch: 133, Loss: 0.0361\n",
      "Epoch: 134, Loss: 0.0408\n",
      "Epoch: 135, Loss: 0.0442\n",
      "Epoch: 136, Loss: 0.0264\n",
      "Epoch: 137, Loss: 0.0311\n",
      "Epoch: 138, Loss: 0.0386\n",
      "Epoch: 139, Loss: 0.0343\n",
      "Epoch: 140, Loss: 0.0382\n",
      "Epoch: 141, Loss: 0.0413\n",
      "Epoch: 142, Loss: 0.0267\n",
      "Epoch: 143, Loss: 0.0376\n",
      "Epoch: 144, Loss: 0.0277\n",
      "Epoch: 145, Loss: 0.0404\n",
      "Epoch: 146, Loss: 0.0274\n",
      "Epoch: 147, Loss: 0.0529\n",
      "Epoch: 148, Loss: 0.0323\n",
      "Epoch: 149, Loss: 0.0321\n",
      "Epoch: 150, Loss: 0.0341\n",
      "Epoch: 151, Loss: 0.0268\n",
      "Epoch: 152, Loss: 0.0281\n",
      "Epoch: 153, Loss: 0.0407\n",
      "Epoch: 154, Loss: 0.0308\n",
      "Epoch: 155, Loss: 0.0445\n",
      "Epoch: 156, Loss: 0.0395\n",
      "Epoch: 157, Loss: 0.0318\n",
      "Epoch: 158, Loss: 0.0331\n",
      "Epoch: 159, Loss: 0.0294\n",
      "Epoch: 160, Loss: 0.0265\n",
      "Epoch: 161, Loss: 0.0253\n",
      "Epoch: 162, Loss: 0.0268\n",
      "Epoch: 163, Loss: 0.0273\n",
      "Epoch: 164, Loss: 0.0455\n",
      "Epoch: 165, Loss: 0.0254\n",
      "Epoch: 166, Loss: 0.0306\n",
      "Epoch: 167, Loss: 0.0285\n",
      "Epoch: 168, Loss: 0.0403\n",
      "Epoch: 169, Loss: 0.0425\n",
      "Epoch: 170, Loss: 0.0284\n",
      "Epoch: 171, Loss: 0.0388\n",
      "Epoch: 172, Loss: 0.0348\n",
      "Epoch: 173, Loss: 0.0317\n",
      "Epoch: 174, Loss: 0.0251\n",
      "Epoch: 175, Loss: 0.0307\n",
      "Epoch: 176, Loss: 0.0509\n",
      "Epoch: 177, Loss: 0.0276\n",
      "Epoch: 178, Loss: 0.0227\n",
      "Epoch: 179, Loss: 0.0169\n",
      "Epoch: 180, Loss: 0.0286\n",
      "Epoch: 181, Loss: 0.0323\n",
      "Epoch: 182, Loss: 0.0360\n",
      "Epoch: 183, Loss: 0.0198\n",
      "Epoch: 184, Loss: 0.0359\n",
      "Epoch: 185, Loss: 0.0396\n",
      "Epoch: 186, Loss: 0.0322\n",
      "Epoch: 187, Loss: 0.0316\n",
      "Epoch: 188, Loss: 0.0193\n",
      "Epoch: 189, Loss: 0.0259\n",
      "Epoch: 190, Loss: 0.0307\n",
      "Epoch: 191, Loss: 0.0333\n",
      "Epoch: 192, Loss: 0.0314\n",
      "Epoch: 193, Loss: 0.0383\n",
      "Epoch: 194, Loss: 0.0251\n",
      "Epoch: 195, Loss: 0.0363\n",
      "Epoch: 196, Loss: 0.0305\n",
      "Epoch: 197, Loss: 0.0274\n",
      "Epoch: 198, Loss: 0.0271\n",
      "Epoch: 199, Loss: 0.0369\n",
      "Epoch: 200, Loss: 0.0207\n"
     ]
    }
   ],
   "source": [
    "#训练函数\n",
    "def train(model,data,optimizer,criterion):\n",
    "    model.train()\n",
    "    optimizer.zero_grad()  # 梯度置零\n",
    "    out = model(data.x, data.edge_index)  # 模型前向传播\n",
    "    loss = criterion(out[data.train_mask],data.y[data.train_mask])  # 计算loss\n",
    "    loss.backward()  # 反向传播\n",
    "    optimizer.step()  # 优化器梯度下降\n",
    "    return loss\n",
    "#训练\n",
    "for epoch in range(1, 201):\n",
    "    loss = train(model,data,optimizer,criterion)\n",
    "    print(f'Epoch: {epoch:03d}, Loss: {loss:.4f}')"
   ],
   "metadata": {
    "collapsed": false,
    "ExecuteTime": {
     "end_time": "2023-10-16T13:32:15.364086500Z",
     "start_time": "2023-10-16T13:32:12.594193800Z"
    }
   },
   "id": "5fa710e04ae54764"
  },
  {
   "cell_type": "code",
   "execution_count": 30,
   "outputs": [
    {
     "name": "stdout",
     "output_type": "stream",
     "text": [
      "Test Accuracy: 0.8020\n"
     ]
    }
   ],
   "source": [
    "#测试函数\n",
    "def test(model,data):\n",
    "    model.eval()\n",
    "    out = model(data.x, data.edge_index)\n",
    "    pred = out.argmax(dim=1)  # 使用最大概率的类别作为预测结果\n",
    "    test_correct = pred[data.test_mask] == data.y[data.test_mask]  # 获取正确标记的节点\n",
    "    test_acc = int(test_correct.sum()) / int(data.test_mask.sum()) # 计算正确率\n",
    "    return test_acc\n",
    "#精度评价\n",
    "test_acc = test(model,data)\n",
    "print(f'Test Accuracy: {test_acc:.4f}')"
   ],
   "metadata": {
    "collapsed": false,
    "ExecuteTime": {
     "end_time": "2023-10-16T13:32:22.390793400Z",
     "start_time": "2023-10-16T13:32:22.336033400Z"
    }
   },
   "id": "e64c4bbc76bbed61"
  },
  {
   "cell_type": "code",
   "execution_count": null,
   "outputs": [],
   "source": [],
   "metadata": {
    "collapsed": false
   },
   "id": "7853e15c4563aefb"
  }
 ],
 "metadata": {
  "kernelspec": {
   "display_name": "Python 3",
   "language": "python",
   "name": "python3"
  },
  "language_info": {
   "codemirror_mode": {
    "name": "ipython",
    "version": 2
   },
   "file_extension": ".py",
   "mimetype": "text/x-python",
   "name": "python",
   "nbconvert_exporter": "python",
   "pygments_lexer": "ipython2",
   "version": "2.7.6"
  }
 },
 "nbformat": 4,
 "nbformat_minor": 5
}
